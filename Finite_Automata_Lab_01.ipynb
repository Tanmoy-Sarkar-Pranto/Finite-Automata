{
  "nbformat": 4,
  "nbformat_minor": 0,
  "metadata": {
    "colab": {
      "name": "Finite Automata Lab-01.ipynb",
      "provenance": [],
      "authorship_tag": "ABX9TyPmQBmxDZyande6xXbAj/V3",
      "include_colab_link": true
    },
    "kernelspec": {
      "name": "python3",
      "display_name": "Python 3"
    }
  },
  "cells": [
    {
      "cell_type": "markdown",
      "metadata": {
        "id": "view-in-github",
        "colab_type": "text"
      },
      "source": [
        "<a href=\"https://colab.research.google.com/github/Tanmoy-Sarkar-Pranto/Finite-Automata/blob/main/Finite_Automata_Lab_01.ipynb\" target=\"_parent\"><img src=\"https://colab.research.google.com/assets/colab-badge.svg\" alt=\"Open In Colab\"/></a>"
      ]
    },
    {
      "cell_type": "code",
      "metadata": {
        "id": "S9nvNysL-PMA"
      },
      "source": [
        "print('Welcome to automata lab with python \\n')\r\n",
        "\r\n",
        "age = 25\r\n",
        "salary = 35000.236\r\n",
        "name = 'Sakib'\r\n",
        "\r\n",
        "print(type(age), type(salary), type(name))\r\n",
        "\r\n",
        "print('Mr.',name,' is',age,' years old.')"
      ],
      "execution_count": null,
      "outputs": []
    },
    {
      "cell_type": "code",
      "metadata": {
        "colab": {
          "base_uri": "https://localhost:8080/"
        },
        "id": "lx4i7qomC9Tx",
        "outputId": "6472bc04-86b5-46e9-936a-3aab9c0db10b"
      },
      "source": [
        "n = int(input('What\\'s your age = '))\r\n",
        "\r\n",
        "print(type(n))\r\n",
        "\r\n",
        "fname = input('Enter first name = ')\r\n",
        "lname = input('Enter last name = ')\r\n",
        "\r\n",
        "fullname = fname + ' ' + lname\r\n",
        "print('You\\'r', fullname)\r\n",
        "print(f'You\\'r {fname} {lname}')"
      ],
      "execution_count": 8,
      "outputs": [
        {
          "output_type": "stream",
          "text": [
            "What's your age = 22\n",
            "<class 'int'>\n",
            "Enter first name = Tanmoy\n",
            "Enter last name = Pranto\n",
            "You'r  Tanmoy Pranto\n",
            "Tanmoy is Pranto\n"
          ],
          "name": "stdout"
        }
      ]
    },
    {
      "cell_type": "code",
      "metadata": {
        "colab": {
          "base_uri": "https://localhost:8080/"
        },
        "id": "AGnJzPtJG4SZ",
        "outputId": "01b0aa79-7b09-4b70-9f07-eaf6b3e282b7"
      },
      "source": [
        "a,b,c = 102 , 'Pranto', 20j\r\n",
        "\r\n",
        "print(type(a),type(b),type(c))\r\n",
        "\r\n",
        "list1 = [102,14.36,10j,'Pranto']\r\n",
        "print(list1)\r\n",
        "print(type(list1))"
      ],
      "execution_count": 12,
      "outputs": [
        {
          "output_type": "stream",
          "text": [
            "<class 'int'> <class 'str'> <class 'complex'>\n",
            "[102, 14, 36, 10j, 'Pranto']\n",
            "<class 'list'>\n"
          ],
          "name": "stdout"
        }
      ]
    },
    {
      "cell_type": "code",
      "metadata": {
        "colab": {
          "base_uri": "https://localhost:8080/"
        },
        "id": "jaD5EGcJSFWX",
        "outputId": "ec799474-9883-40e8-aecb-ff93a9f3884e"
      },
      "source": [
        "a,b,c = map(int, input('Enter 3 numbers = ').split())\r\n",
        "print(a,b,c)"
      ],
      "execution_count": 55,
      "outputs": [
        {
          "output_type": "stream",
          "text": [
            "Enter 3 numbers = 1 2 3\n",
            "1 2 3\n"
          ],
          "name": "stdout"
        }
      ]
    },
    {
      "cell_type": "markdown",
      "metadata": {
        "id": "OjysLOSRImXX"
      },
      "source": [
        "**Indentation in Python**"
      ]
    },
    {
      "cell_type": "code",
      "metadata": {
        "colab": {
          "base_uri": "https://localhost:8080/"
        },
        "id": "4VEU-ssVIsc6",
        "outputId": "d9fdded9-4586-4a8f-e302-ad7a1f788e6c"
      },
      "source": [
        "i = int(input('Enter a number = '))\r\n",
        "\r\n",
        "if i%2 is 0 and i>0:\r\n",
        "  print(f'{i} is Even')\r\n",
        "elif i%2 is 1 and i>0:\r\n",
        "  print(f'{i} is Odd')\r\n",
        "elif i<0:\r\n",
        "  print('Enter a positive number')\r\n"
      ],
      "execution_count": 27,
      "outputs": [
        {
          "output_type": "stream",
          "text": [
            "Enter a number = -2\n",
            "ENter a positive number\n"
          ],
          "name": "stdout"
        }
      ]
    },
    {
      "cell_type": "code",
      "metadata": {
        "colab": {
          "base_uri": "https://localhost:8080/"
        },
        "id": "70Al2kJZLg2L",
        "outputId": "7dbec5d2-33e1-45a8-dea3-8102ec783289"
      },
      "source": [
        "i = int(input('Enter a number = '))\r\n",
        "\r\n",
        "if i>0:\r\n",
        "  if i%2 is 0:\r\n",
        "    print(f'{i} is even')\r\n",
        "  else:\r\n",
        "    print(f'{i} is odd')\r\n",
        "elif i<0:\r\n",
        "  print('Enter a positive number')"
      ],
      "execution_count": 31,
      "outputs": [
        {
          "output_type": "stream",
          "text": [
            "Enter a number = 32\n",
            "32 is even\n"
          ],
          "name": "stdout"
        }
      ]
    },
    {
      "cell_type": "code",
      "metadata": {
        "colab": {
          "base_uri": "https://localhost:8080/"
        },
        "id": "SFD88L_ENSGS",
        "outputId": "4636dede-a36a-4546-eb9e-885b40213f86"
      },
      "source": [
        "country = input('Country = ')\r\n",
        "age = int(input('Enter age = '))\r\n",
        "\r\n",
        "if country == 'USA' and age>=25:\r\n",
        "    print('You are allowd')\r\n",
        "elif country == 'USA' and age<25:\r\n",
        "    print('You are not allowd')\r\n",
        "elif country == 'England' and age>=20:\r\n",
        "    print('You are allowed')"
      ],
      "execution_count": 34,
      "outputs": [
        {
          "output_type": "stream",
          "text": [
            "Country = USA\n",
            "Enter age = 23\n",
            "You are not allowd\n"
          ],
          "name": "stdout"
        }
      ]
    },
    {
      "cell_type": "code",
      "metadata": {
        "colab": {
          "base_uri": "https://localhost:8080/"
        },
        "id": "Yshc1KqgPvfQ",
        "outputId": "63d12e15-fbd4-4592-ca2e-233b093e8dbd"
      },
      "source": [
        "i = 0\r\n",
        "while i<=10:\r\n",
        "    if i>=5:\r\n",
        "        break\r\n",
        "    print(i,end=' ')\r\n",
        "    i+=1\r\n",
        "print('\\n')\r\n",
        "\r\n",
        "for i in range(10):\r\n",
        "    print(i,end=' ')\r\n",
        "print('\\n')\r\n",
        "\r\n",
        "for i in range(0,10,2):\r\n",
        "    print(i,end=' ')\r\n",
        "print('\\n')\r\n",
        "\r\n",
        "for i in range(10,0,-1):\r\n",
        "    print(i,end=' ')\r\n",
        "print('\\n')\r\n",
        "\r\n",
        "for i in range(2,10):\r\n",
        "    print(i,end=' ')\r\n",
        "print('\\n')"
      ],
      "execution_count": 45,
      "outputs": [
        {
          "output_type": "stream",
          "text": [
            "0 1 2 3 4 \n",
            "\n",
            "0 1 2 3 4 5 6 7 8 9 \n",
            "\n",
            "0 2 4 6 8 \n",
            "\n",
            "10 9 8 7 6 5 4 3 2 1 \n",
            "\n",
            "2 3 4 5 6 7 8 9 \n",
            "\n"
          ],
          "name": "stdout"
        }
      ]
    },
    {
      "cell_type": "code",
      "metadata": {
        "colab": {
          "base_uri": "https://localhost:8080/"
        },
        "id": "vwRVWKyJVQv1",
        "outputId": "d96cb533-d87a-4881-8301-f457f1e7e507"
      },
      "source": [
        "import math\r\n",
        "\r\n",
        "for i in range(1,101):\r\n",
        "    flag=1\r\n",
        "    if i>1:\r\n",
        "        for j in range(2,int(math.sqrt(i))+1):\r\n",
        "            if i%j==0:\r\n",
        "                flag = 0\r\n",
        "                break\r\n",
        "    \r\n",
        "        if flag is 1:\r\n",
        "            print(i,end=' ')"
      ],
      "execution_count": 69,
      "outputs": [
        {
          "output_type": "stream",
          "text": [
            "2 3 5 7 11 13 17 19 23 29 31 37 41 43 47 53 59 61 67 71 73 79 83 89 97 "
          ],
          "name": "stdout"
        }
      ]
    },
    {
      "cell_type": "markdown",
      "metadata": {
        "id": "5LheoerfaWKq"
      },
      "source": [
        "**List and Dictionary**"
      ]
    },
    {
      "cell_type": "code",
      "metadata": {
        "colab": {
          "base_uri": "https://localhost:8080/"
        },
        "id": "svZ5190KagMk",
        "outputId": "e5353f83-a915-4021-ba3f-e79fce7825dc"
      },
      "source": [
        "batsman = ['Sakib','Tamim','Mushfiq']\r\n",
        "average = [35.63,32.19,33.56]\r\n",
        "\r\n",
        "print(batsman)\r\n",
        "print(average)\r\n",
        "print('\\n')\r\n",
        "\r\n",
        "for i in batsman:\r\n",
        "    print(i)\r\n",
        "\r\n",
        "for i in range(len(average)):\r\n",
        "    print(average[i])\r\n"
      ],
      "execution_count": 78,
      "outputs": [
        {
          "output_type": "stream",
          "text": [
            "['Sakib', 'Tamim', 'Mushfiq']\n",
            "[35.63, 32.19, 33.56]\n",
            "\n",
            "\n",
            "Sakib\n",
            "Tamim\n",
            "Mushfiq\n",
            "35.63\n",
            "32.19\n",
            "33.56\n"
          ],
          "name": "stdout"
        }
      ]
    },
    {
      "cell_type": "markdown",
      "metadata": {
        "id": "KUpaE426cr9G"
      },
      "source": [
        "**Dictionary**"
      ]
    },
    {
      "cell_type": "code",
      "metadata": {
        "colab": {
          "base_uri": "https://localhost:8080/"
        },
        "id": "EexO_BmJczjb",
        "outputId": "3c7ef1ab-4791-4a62-8b80-8fd90a7fd367"
      },
      "source": [
        "allRounder ={\r\n",
        "    'name' : 'Pranto',\r\n",
        "    'country' : 'Bangladesh',\r\n",
        "    'age' : '22',\r\n",
        "    'totalRuns' : 7000,\r\n",
        "    'totalWickets' : 350,\r\n",
        "    'heighestRun' : 200\r\n",
        "}\r\n",
        "\r\n",
        "# print(allRounder)\r\n",
        "\r\n",
        "# print(allRounder['name'],'has a total of ',allRounder['totalRuns'],' runs')\r\n",
        "\r\n",
        "list1 = [allRounder,[1,2,3],25j,354,36.54,'Cricket']\r\n",
        "for i in range(len(list1)):\r\n",
        "    print(type(list1[i]))\r\n"
      ],
      "execution_count": 89,
      "outputs": [
        {
          "output_type": "stream",
          "text": [
            "<class 'dict'>\n",
            "<class 'list'>\n",
            "<class 'complex'>\n",
            "<class 'int'>\n",
            "<class 'float'>\n",
            "<class 'str'>\n"
          ],
          "name": "stdout"
        }
      ]
    },
    {
      "cell_type": "markdown",
      "metadata": {
        "id": "A3dzaBEufghQ"
      },
      "source": [
        "**Function**"
      ]
    },
    {
      "cell_type": "code",
      "metadata": {
        "colab": {
          "base_uri": "https://localhost:8080/"
        },
        "id": "tdhhgEvAfi4d",
        "outputId": "c5dc4b48-8858-4085-a1aa-8cd42ea70126"
      },
      "source": [
        "def say_hi(fname,mname,lname):\r\n",
        "    return fname+' '+mname+' '+lname\r\n",
        "\r\n",
        "fname,mname,lname='Tanmoy','Sarkar','Pranto'\r\n",
        "\r\n",
        "print(f'Hello {fname} {mname} {lname}')\r\n",
        "\r\n",
        "fullName = say_hi(fname,mname,lname)\r\n",
        "\r\n",
        "print(fullName)\r\n"
      ],
      "execution_count": 94,
      "outputs": [
        {
          "output_type": "stream",
          "text": [
            "Hello Tanmoy Sarkar Pranto\n",
            "Tanmoy Sarkar Pranto\n"
          ],
          "name": "stdout"
        }
      ]
    },
    {
      "cell_type": "markdown",
      "metadata": {
        "id": "ep-QIxLng1Vs"
      },
      "source": [
        "**Recuursion**"
      ]
    },
    {
      "cell_type": "code",
      "metadata": {
        "colab": {
          "base_uri": "https://localhost:8080/",
          "height": 246
        },
        "id": "Rp3vUbTFg4oy",
        "outputId": "94e415a4-655a-446a-f3d2-2c189c71aef3"
      },
      "source": [
        "def factorial(n):\r\n",
        "\r\n",
        "    if n is 0:\r\n",
        "        return 1\r\n",
        "    \r\n",
        "    else:\r\n",
        "        return n*factorial(n-1)\r\n",
        "\r\n",
        "\r\n",
        "\r\n",
        "while True:\r\n",
        "    n = int(input('Enter a number to calculate factorial = '))\r\n",
        "    if n is 0:\r\n",
        "        break;\r\n",
        "    \r\n",
        "    fact = str(factorial(n))\r\n",
        "    print('Factorial of'+n+'is '+fact)\r\n",
        "    print(type(fact))"
      ],
      "execution_count": 106,
      "outputs": [
        {
          "output_type": "stream",
          "text": [
            "Enter a number to calculate factorial = 5\n"
          ],
          "name": "stdout"
        },
        {
          "output_type": "error",
          "ename": "TypeError",
          "evalue": "ignored",
          "traceback": [
            "\u001b[0;31m---------------------------------------------------------------------------\u001b[0m",
            "\u001b[0;31mTypeError\u001b[0m                                 Traceback (most recent call last)",
            "\u001b[0;32m<ipython-input-106-364117b8fa3f>\u001b[0m in \u001b[0;36m<module>\u001b[0;34m()\u001b[0m\n\u001b[1;32m     14\u001b[0m         \u001b[0;32mbreak\u001b[0m\u001b[0;34m;\u001b[0m\u001b[0;34m\u001b[0m\u001b[0;34m\u001b[0m\u001b[0m\n\u001b[1;32m     15\u001b[0m \u001b[0;34m\u001b[0m\u001b[0m\n\u001b[0;32m---> 16\u001b[0;31m     \u001b[0mfact\u001b[0m \u001b[0;34m=\u001b[0m \u001b[0mstr\u001b[0m\u001b[0;34m(\u001b[0m\u001b[0mfactorial\u001b[0m\u001b[0;34m(\u001b[0m\u001b[0mn\u001b[0m\u001b[0;34m)\u001b[0m\u001b[0;34m)\u001b[0m\u001b[0;34m\u001b[0m\u001b[0;34m\u001b[0m\u001b[0m\n\u001b[0m\u001b[1;32m     17\u001b[0m     \u001b[0mprint\u001b[0m\u001b[0;34m(\u001b[0m\u001b[0;34m'Factorial of'\u001b[0m\u001b[0;34m+\u001b[0m\u001b[0mn\u001b[0m\u001b[0;34m+\u001b[0m\u001b[0;34m'is '\u001b[0m\u001b[0;34m+\u001b[0m\u001b[0mfact\u001b[0m\u001b[0;34m)\u001b[0m\u001b[0;34m\u001b[0m\u001b[0;34m\u001b[0m\u001b[0m\n\u001b[1;32m     18\u001b[0m     \u001b[0mprint\u001b[0m\u001b[0;34m(\u001b[0m\u001b[0mtype\u001b[0m\u001b[0;34m(\u001b[0m\u001b[0mfact\u001b[0m\u001b[0;34m)\u001b[0m\u001b[0;34m)\u001b[0m\u001b[0;34m\u001b[0m\u001b[0;34m\u001b[0m\u001b[0m\n",
            "\u001b[0;31mTypeError\u001b[0m: 'str' object is not callable"
          ]
        }
      ]
    }
  ]
}