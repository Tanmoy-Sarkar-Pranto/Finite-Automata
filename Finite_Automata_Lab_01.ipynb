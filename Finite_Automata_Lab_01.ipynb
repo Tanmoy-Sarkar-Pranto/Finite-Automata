{
  "nbformat": 4,
  "nbformat_minor": 0,
  "metadata": {
    "colab": {
      "name": "Finite Automata Lab-01.ipynb",
      "provenance": [],
      "authorship_tag": "ABX9TyN/B74YmWzI1pp7XmlNWlbr",
      "include_colab_link": true
    },
    "kernelspec": {
      "name": "python3",
      "display_name": "Python 3"
    }
  },
  "cells": [
    {
      "cell_type": "markdown",
      "metadata": {
        "id": "view-in-github",
        "colab_type": "text"
      },
      "source": [
        "<a href=\"https://colab.research.google.com/github/Tanmoy-Sarkar-Pranto/Finite-Automata/blob/main/Finite_Automata_Lab_01.ipynb\" target=\"_parent\"><img src=\"https://colab.research.google.com/assets/colab-badge.svg\" alt=\"Open In Colab\"/></a>"
      ]
    },
    {
      "cell_type": "code",
      "metadata": {
        "id": "S9nvNysL-PMA"
      },
      "source": [
        "print('Welcome to automata lab with python \\n')\r\n",
        "\r\n",
        "age = 25\r\n",
        "salary = 35000.236\r\n",
        "name = 'Sakib'\r\n",
        "\r\n",
        "print(type(age), type(salary), type(name))\r\n",
        "\r\n",
        "print('Mr.',name,' is',age,' years old.')"
      ],
      "execution_count": null,
      "outputs": []
    },
    {
      "cell_type": "code",
      "metadata": {
        "colab": {
          "base_uri": "https://localhost:8080/"
        },
        "id": "lx4i7qomC9Tx",
        "outputId": "6472bc04-86b5-46e9-936a-3aab9c0db10b"
      },
      "source": [
        "n = int(input('What\\'s your age = '))\r\n",
        "\r\n",
        "print(type(n))\r\n",
        "\r\n",
        "fname = input('Enter first name = ')\r\n",
        "lname = input('Enter last name = ')\r\n",
        "\r\n",
        "fullname = fname + ' ' + lname\r\n",
        "print('You\\'r', fullname)\r\n",
        "print(f'You\\'r {fname} {lname}')"
      ],
      "execution_count": null,
      "outputs": [
        {
          "output_type": "stream",
          "text": [
            "What's your age = 22\n",
            "<class 'int'>\n",
            "Enter first name = Tanmoy\n",
            "Enter last name = Pranto\n",
            "You'r  Tanmoy Pranto\n",
            "Tanmoy is Pranto\n"
          ],
          "name": "stdout"
        }
      ]
    },
    {
      "cell_type": "code",
      "metadata": {
        "colab": {
          "base_uri": "https://localhost:8080/"
        },
        "id": "AGnJzPtJG4SZ",
        "outputId": "01b0aa79-7b09-4b70-9f07-eaf6b3e282b7"
      },
      "source": [
        "a,b,c = 102 , 'Pranto', 20j\r\n",
        "\r\n",
        "print(type(a),type(b),type(c))\r\n",
        "\r\n",
        "list1 = [102,14.36,10j,'Pranto']\r\n",
        "print(list1)\r\n",
        "print(type(list1))"
      ],
      "execution_count": null,
      "outputs": [
        {
          "output_type": "stream",
          "text": [
            "<class 'int'> <class 'str'> <class 'complex'>\n",
            "[102, 14, 36, 10j, 'Pranto']\n",
            "<class 'list'>\n"
          ],
          "name": "stdout"
        }
      ]
    },
    {
      "cell_type": "code",
      "metadata": {
        "colab": {
          "base_uri": "https://localhost:8080/"
        },
        "id": "jaD5EGcJSFWX",
        "outputId": "ec799474-9883-40e8-aecb-ff93a9f3884e"
      },
      "source": [
        "a,b,c = map(int, input('Enter 3 numbers = ').split())\r\n",
        "print(a,b,c)"
      ],
      "execution_count": null,
      "outputs": [
        {
          "output_type": "stream",
          "text": [
            "Enter 3 numbers = 1 2 3\n",
            "1 2 3\n"
          ],
          "name": "stdout"
        }
      ]
    },
    {
      "cell_type": "markdown",
      "metadata": {
        "id": "OjysLOSRImXX"
      },
      "source": [
        "**Indentation in Python**"
      ]
    },
    {
      "cell_type": "code",
      "metadata": {
        "colab": {
          "base_uri": "https://localhost:8080/"
        },
        "id": "4VEU-ssVIsc6",
        "outputId": "d9fdded9-4586-4a8f-e302-ad7a1f788e6c"
      },
      "source": [
        "i = int(input('Enter a number = '))\r\n",
        "\r\n",
        "if i%2 is 0 and i>0:\r\n",
        "  print(f'{i} is Even')\r\n",
        "elif i%2 is 1 and i>0:\r\n",
        "  print(f'{i} is Odd')\r\n",
        "elif i<0:\r\n",
        "  print('Enter a positive number')\r\n"
      ],
      "execution_count": null,
      "outputs": [
        {
          "output_type": "stream",
          "text": [
            "Enter a number = -2\n",
            "ENter a positive number\n"
          ],
          "name": "stdout"
        }
      ]
    },
    {
      "cell_type": "code",
      "metadata": {
        "colab": {
          "base_uri": "https://localhost:8080/"
        },
        "id": "70Al2kJZLg2L",
        "outputId": "7dbec5d2-33e1-45a8-dea3-8102ec783289"
      },
      "source": [
        "i = int(input('Enter a number = '))\r\n",
        "\r\n",
        "if i>0:\r\n",
        "  if i%2 is 0:\r\n",
        "    print(f'{i} is even')\r\n",
        "  else:\r\n",
        "    print(f'{i} is odd')\r\n",
        "elif i<0:\r\n",
        "  print('Enter a positive number')"
      ],
      "execution_count": null,
      "outputs": [
        {
          "output_type": "stream",
          "text": [
            "Enter a number = 32\n",
            "32 is even\n"
          ],
          "name": "stdout"
        }
      ]
    },
    {
      "cell_type": "code",
      "metadata": {
        "colab": {
          "base_uri": "https://localhost:8080/"
        },
        "id": "SFD88L_ENSGS",
        "outputId": "4636dede-a36a-4546-eb9e-885b40213f86"
      },
      "source": [
        "country = input('Country = ')\r\n",
        "age = int(input('Enter age = '))\r\n",
        "\r\n",
        "if country == 'USA' and age>=25:\r\n",
        "    print('You are allowd')\r\n",
        "elif country == 'USA' and age<25:\r\n",
        "    print('You are not allowd')\r\n",
        "elif country == 'England' and age>=20:\r\n",
        "    print('You are allowed')"
      ],
      "execution_count": null,
      "outputs": [
        {
          "output_type": "stream",
          "text": [
            "Country = USA\n",
            "Enter age = 23\n",
            "You are not allowd\n"
          ],
          "name": "stdout"
        }
      ]
    },
    {
      "cell_type": "code",
      "metadata": {
        "colab": {
          "base_uri": "https://localhost:8080/"
        },
        "id": "Yshc1KqgPvfQ",
        "outputId": "63d12e15-fbd4-4592-ca2e-233b093e8dbd"
      },
      "source": [
        "i = 0\r\n",
        "while i<=10:\r\n",
        "    if i>=5:\r\n",
        "        break\r\n",
        "    print(i,end=' ')\r\n",
        "    i+=1\r\n",
        "print('\\n')\r\n",
        "\r\n",
        "for i in range(10):\r\n",
        "    print(i,end=' ')\r\n",
        "print('\\n')\r\n",
        "\r\n",
        "for i in range(0,10,2):\r\n",
        "    print(i,end=' ')\r\n",
        "print('\\n')\r\n",
        "\r\n",
        "for i in range(10,0,-1):\r\n",
        "    print(i,end=' ')\r\n",
        "print('\\n')\r\n",
        "\r\n",
        "for i in range(2,10):\r\n",
        "    print(i,end=' ')\r\n",
        "print('\\n')"
      ],
      "execution_count": null,
      "outputs": [
        {
          "output_type": "stream",
          "text": [
            "0 1 2 3 4 \n",
            "\n",
            "0 1 2 3 4 5 6 7 8 9 \n",
            "\n",
            "0 2 4 6 8 \n",
            "\n",
            "10 9 8 7 6 5 4 3 2 1 \n",
            "\n",
            "2 3 4 5 6 7 8 9 \n",
            "\n"
          ],
          "name": "stdout"
        }
      ]
    },
    {
      "cell_type": "code",
      "metadata": {
        "colab": {
          "base_uri": "https://localhost:8080/"
        },
        "id": "vwRVWKyJVQv1",
        "outputId": "d96cb533-d87a-4881-8301-f457f1e7e507"
      },
      "source": [
        "import math\r\n",
        "\r\n",
        "for i in range(1,101):\r\n",
        "    flag=1\r\n",
        "    if i>1:\r\n",
        "        for j in range(2,int(math.sqrt(i))+1):\r\n",
        "            if i%j==0:\r\n",
        "                flag = 0\r\n",
        "                break\r\n",
        "    \r\n",
        "        if flag is 1:\r\n",
        "            print(i,end=' ')"
      ],
      "execution_count": null,
      "outputs": [
        {
          "output_type": "stream",
          "text": [
            "2 3 5 7 11 13 17 19 23 29 31 37 41 43 47 53 59 61 67 71 73 79 83 89 97 "
          ],
          "name": "stdout"
        }
      ]
    },
    {
      "cell_type": "markdown",
      "metadata": {
        "id": "5LheoerfaWKq"
      },
      "source": [
        "**List and Dictionary**"
      ]
    },
    {
      "cell_type": "code",
      "metadata": {
        "colab": {
          "base_uri": "https://localhost:8080/"
        },
        "id": "svZ5190KagMk",
        "outputId": "e5353f83-a915-4021-ba3f-e79fce7825dc"
      },
      "source": [
        "batsman = ['Sakib','Tamim','Mushfiq']\r\n",
        "average = [35.63,32.19,33.56]\r\n",
        "\r\n",
        "print(batsman)\r\n",
        "print(average)\r\n",
        "print('\\n')\r\n",
        "\r\n",
        "for i in batsman:\r\n",
        "    print(i)\r\n",
        "\r\n",
        "for i in range(len(average)):\r\n",
        "    print(average[i])\r\n"
      ],
      "execution_count": null,
      "outputs": [
        {
          "output_type": "stream",
          "text": [
            "['Sakib', 'Tamim', 'Mushfiq']\n",
            "[35.63, 32.19, 33.56]\n",
            "\n",
            "\n",
            "Sakib\n",
            "Tamim\n",
            "Mushfiq\n",
            "35.63\n",
            "32.19\n",
            "33.56\n"
          ],
          "name": "stdout"
        }
      ]
    },
    {
      "cell_type": "markdown",
      "metadata": {
        "id": "KUpaE426cr9G"
      },
      "source": [
        "**Dictionary**"
      ]
    },
    {
      "cell_type": "code",
      "metadata": {
        "colab": {
          "base_uri": "https://localhost:8080/"
        },
        "id": "EexO_BmJczjb",
        "outputId": "3c7ef1ab-4791-4a62-8b80-8fd90a7fd367"
      },
      "source": [
        "allRounder ={\r\n",
        "    'name' : 'Pranto',\r\n",
        "    'country' : 'Bangladesh',\r\n",
        "    'age' : '22',\r\n",
        "    'totalRuns' : 7000,\r\n",
        "    'totalWickets' : 350,\r\n",
        "    'heighestRun' : 200\r\n",
        "}\r\n",
        "\r\n",
        "# print(allRounder)\r\n",
        "\r\n",
        "# print(allRounder['name'],'has a total of ',allRounder['totalRuns'],' runs')\r\n",
        "\r\n",
        "list1 = [allRounder,[1,2,3],25j,354,36.54,'Cricket']\r\n",
        "for i in range(len(list1)):\r\n",
        "    print(type(list1[i]))\r\n"
      ],
      "execution_count": null,
      "outputs": [
        {
          "output_type": "stream",
          "text": [
            "<class 'dict'>\n",
            "<class 'list'>\n",
            "<class 'complex'>\n",
            "<class 'int'>\n",
            "<class 'float'>\n",
            "<class 'str'>\n"
          ],
          "name": "stdout"
        }
      ]
    },
    {
      "cell_type": "markdown",
      "metadata": {
        "id": "A3dzaBEufghQ"
      },
      "source": [
        "**Function**"
      ]
    },
    {
      "cell_type": "code",
      "metadata": {
        "colab": {
          "base_uri": "https://localhost:8080/"
        },
        "id": "tdhhgEvAfi4d",
        "outputId": "c5dc4b48-8858-4085-a1aa-8cd42ea70126"
      },
      "source": [
        "def say_hi(fname,mname,lname):\r\n",
        "    return fname+' '+mname+' '+lname\r\n",
        "\r\n",
        "fname,mname,lname='Tanmoy','Sarkar','Pranto'\r\n",
        "\r\n",
        "print(f'Hello {fname} {mname} {lname}')\r\n",
        "\r\n",
        "fullName = say_hi(fname,mname,lname)\r\n",
        "\r\n",
        "print(fullName)\r\n"
      ],
      "execution_count": null,
      "outputs": [
        {
          "output_type": "stream",
          "text": [
            "Hello Tanmoy Sarkar Pranto\n",
            "Tanmoy Sarkar Pranto\n"
          ],
          "name": "stdout"
        }
      ]
    },
    {
      "cell_type": "markdown",
      "metadata": {
        "id": "ep-QIxLng1Vs"
      },
      "source": [
        "**Recuursion**"
      ]
    },
    {
      "cell_type": "code",
      "metadata": {
        "colab": {
          "base_uri": "https://localhost:8080/",
          "height": 710
        },
        "id": "Rp3vUbTFg4oy",
        "outputId": "1a367e4a-f62c-4f5e-cd07-b2aaa3992e07"
      },
      "source": [
        "def factorial(n):\r\n",
        "\r\n",
        "    if n is 0:\r\n",
        "        return 1\r\n",
        "    \r\n",
        "    else:\r\n",
        "        return n*factorial(n-1)\r\n",
        "\r\n",
        "\r\n",
        "\r\n",
        "while True:\r\n",
        "    n = int(input('Enter a number to calculate factorial = '))\r\n",
        "    if n is 0:\r\n",
        "        break;\r\n",
        "    \r\n",
        "    fact = str(factorial(n))\r\n",
        "    print('Factorial of',n,'is ',fact)\r\n",
        "    print(type(str(fact)))\r\n",
        "    print(len(fact))"
      ],
      "execution_count": 3,
      "outputs": [
        {
          "output_type": "stream",
          "text": [
            "Enter a number to calculate factorial = 5\n",
            "Factorial of 5 is  120\n",
            "<class 'str'>\n",
            "3\n",
            "Enter a number to calculate factorial = 7\n",
            "Factorial of 7 is  5040\n",
            "<class 'str'>\n",
            "4\n",
            "Enter a number to calculate factorial = 100\n",
            "Factorial of 100 is  93326215443944152681699238856266700490715968264381621468592963895217599993229915608941463976156518286253697920827223758251185210916864000000000000000000000000\n",
            "<class 'str'>\n",
            "158\n",
            "Enter a number to calculate factorial = 900\n",
            "Factorial of 900 is  67526802209645841583879061361800814224269427869589384312198268703685091643180416969132446952698303794226010370578672908593198347699886928591906501031587651846976759681112609524787093848004428636186893395272784450630354080243217646658024696659065951793757223520229235577548653833681102170973893746054649126415909143150172860721156685810655759230011450132992176454983227538696340112610447029002337004887877266387704586077293585433151612518800147764461182680822867092786694982831838641800997499819339206579415325649748486265233918911087114592440896594062675914294925816719862178374679272092637524786939036290035924271782253738059886933923447877769583003016705363339031413069155837518524761078342052635475632113169618774549275701480106933362990003732589370593557325299434734459295866728988740794174654391479926000848846686708729736713207285203712732201272410830836913052635365082888725171636081587151603468291106754640398232146673627370895934090777828827549554232436190464827998683927179246029919443251026464452337939599198528297828591122689960620361238248313158071643395848405047261412680039877733761849874447323867911712630023171745968278465780558568067035013885275080292137360491875164947724464221693533755035300065350065137490832039523382963747026185653050331832380991844842560750923543775188582096487476950254418365198999674684417286265442786651594404781622946901879166382930714196908227460133027605817864877377712193142137625430353718448269390732615776645283198828602917680224041088993892610506802195917247838900106910698057030379190571057605849323113308634452008179881165616449767648354161225066967961297609698742737923389391615207441152319392845687673311899247085327703421862972871644495409572259985563215471482083325653231777113271326579970310755604973969708949477374254974480294652427022436705380184064008853457214518515270985563195412993145274057688634448812449445800617631162768243125606424844709372022149908463572254912654907763445758543980999149122998104378965626781898655221443263601405152073199706585080288735040205417371277253096243200000000000000000000000000000000000000000000000000000000000000000000000000000000000000000000000000000000000000000000000000000000000000000000000000000000000000000000000000000000000000000000000000000000000000000000000000000000\n",
            "<class 'str'>\n",
            "2270\n",
            "Enter a number to calculate factorial = 999\n"
          ],
          "name": "stdout"
        },
        {
          "output_type": "error",
          "ename": "RecursionError",
          "evalue": "ignored",
          "traceback": [
            "\u001b[0;31m---------------------------------------------------------------------------\u001b[0m",
            "\u001b[0;31mRecursionError\u001b[0m                            Traceback (most recent call last)",
            "\u001b[0;32m<ipython-input-3-20cd2b113312>\u001b[0m in \u001b[0;36m<module>\u001b[0;34m()\u001b[0m\n\u001b[1;32m     14\u001b[0m         \u001b[0;32mbreak\u001b[0m\u001b[0;34m;\u001b[0m\u001b[0;34m\u001b[0m\u001b[0;34m\u001b[0m\u001b[0m\n\u001b[1;32m     15\u001b[0m \u001b[0;34m\u001b[0m\u001b[0m\n\u001b[0;32m---> 16\u001b[0;31m     \u001b[0mfact\u001b[0m \u001b[0;34m=\u001b[0m \u001b[0mstr\u001b[0m\u001b[0;34m(\u001b[0m\u001b[0mfactorial\u001b[0m\u001b[0;34m(\u001b[0m\u001b[0mn\u001b[0m\u001b[0;34m)\u001b[0m\u001b[0;34m)\u001b[0m\u001b[0;34m\u001b[0m\u001b[0;34m\u001b[0m\u001b[0m\n\u001b[0m\u001b[1;32m     17\u001b[0m     \u001b[0mprint\u001b[0m\u001b[0;34m(\u001b[0m\u001b[0;34m'Factorial of'\u001b[0m\u001b[0;34m,\u001b[0m\u001b[0mn\u001b[0m\u001b[0;34m,\u001b[0m\u001b[0;34m'is '\u001b[0m\u001b[0;34m,\u001b[0m\u001b[0mfact\u001b[0m\u001b[0;34m)\u001b[0m\u001b[0;34m\u001b[0m\u001b[0;34m\u001b[0m\u001b[0m\n\u001b[1;32m     18\u001b[0m     \u001b[0mprint\u001b[0m\u001b[0;34m(\u001b[0m\u001b[0mtype\u001b[0m\u001b[0;34m(\u001b[0m\u001b[0mstr\u001b[0m\u001b[0;34m(\u001b[0m\u001b[0mfact\u001b[0m\u001b[0;34m)\u001b[0m\u001b[0;34m)\u001b[0m\u001b[0;34m)\u001b[0m\u001b[0;34m\u001b[0m\u001b[0;34m\u001b[0m\u001b[0m\n",
            "\u001b[0;32m<ipython-input-3-20cd2b113312>\u001b[0m in \u001b[0;36mfactorial\u001b[0;34m(n)\u001b[0m\n\u001b[1;32m      5\u001b[0m \u001b[0;34m\u001b[0m\u001b[0m\n\u001b[1;32m      6\u001b[0m     \u001b[0;32melse\u001b[0m\u001b[0;34m:\u001b[0m\u001b[0;34m\u001b[0m\u001b[0;34m\u001b[0m\u001b[0m\n\u001b[0;32m----> 7\u001b[0;31m         \u001b[0;32mreturn\u001b[0m \u001b[0mn\u001b[0m\u001b[0;34m*\u001b[0m\u001b[0mfactorial\u001b[0m\u001b[0;34m(\u001b[0m\u001b[0mn\u001b[0m\u001b[0;34m-\u001b[0m\u001b[0;36m1\u001b[0m\u001b[0;34m)\u001b[0m\u001b[0;34m\u001b[0m\u001b[0;34m\u001b[0m\u001b[0m\n\u001b[0m\u001b[1;32m      8\u001b[0m \u001b[0;34m\u001b[0m\u001b[0m\n\u001b[1;32m      9\u001b[0m \u001b[0;34m\u001b[0m\u001b[0m\n",
            "... last 1 frames repeated, from the frame below ...\n",
            "\u001b[0;32m<ipython-input-3-20cd2b113312>\u001b[0m in \u001b[0;36mfactorial\u001b[0;34m(n)\u001b[0m\n\u001b[1;32m      5\u001b[0m \u001b[0;34m\u001b[0m\u001b[0m\n\u001b[1;32m      6\u001b[0m     \u001b[0;32melse\u001b[0m\u001b[0;34m:\u001b[0m\u001b[0;34m\u001b[0m\u001b[0;34m\u001b[0m\u001b[0m\n\u001b[0;32m----> 7\u001b[0;31m         \u001b[0;32mreturn\u001b[0m \u001b[0mn\u001b[0m\u001b[0;34m*\u001b[0m\u001b[0mfactorial\u001b[0m\u001b[0;34m(\u001b[0m\u001b[0mn\u001b[0m\u001b[0;34m-\u001b[0m\u001b[0;36m1\u001b[0m\u001b[0;34m)\u001b[0m\u001b[0;34m\u001b[0m\u001b[0;34m\u001b[0m\u001b[0m\n\u001b[0m\u001b[1;32m      8\u001b[0m \u001b[0;34m\u001b[0m\u001b[0m\n\u001b[1;32m      9\u001b[0m \u001b[0;34m\u001b[0m\u001b[0m\n",
            "\u001b[0;31mRecursionError\u001b[0m: maximum recursion depth exceeded"
          ]
        }
      ]
    }
  ]
}