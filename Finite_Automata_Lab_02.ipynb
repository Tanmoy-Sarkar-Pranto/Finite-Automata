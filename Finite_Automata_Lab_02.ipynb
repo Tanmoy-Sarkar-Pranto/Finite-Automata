{
  "nbformat": 4,
  "nbformat_minor": 0,
  "metadata": {
    "colab": {
      "name": "Finite Automata Lab-02.ipynb",
      "provenance": [],
      "collapsed_sections": [],
      "authorship_tag": "ABX9TyPLu/5Uq32be9ZZw0+Iivaj",
      "include_colab_link": true
    },
    "kernelspec": {
      "name": "python3",
      "display_name": "Python 3"
    }
  },
  "cells": [
    {
      "cell_type": "markdown",
      "metadata": {
        "id": "view-in-github",
        "colab_type": "text"
      },
      "source": [
        "<a href=\"https://colab.research.google.com/github/Tanmoy-Sarkar-Pranto/Finite-Automata/blob/main/Finite_Automata_Lab_02.ipynb\" target=\"_parent\"><img src=\"https://colab.research.google.com/assets/colab-badge.svg\" alt=\"Open In Colab\"/></a>"
      ]
    },
    {
      "cell_type": "code",
      "metadata": {
        "colab": {
          "base_uri": "https://localhost:8080/"
        },
        "id": "Udg-hkFHBrkC",
        "outputId": "1fb0a32f-2516-4a2b-825d-5cea38be646a"
      },
      "source": [
        "# Numpy : N-Dimensional Array in Python\r\n",
        "\r\n",
        "import numpy as np # We rename numpy as np\r\n",
        "\r\n",
        "print(np.__version__)\r\n",
        "\r\n",
        "a = np.array([1,2,3,4,5])\r\n",
        "print(a)\r\n",
        "print(type(a))\r\n",
        "print('Shape of array-a:', a.shape)\r\n",
        "print('Dimension of array-a:',a.ndim)"
      ],
      "execution_count": 6,
      "outputs": [
        {
          "output_type": "stream",
          "text": [
            "1.19.5\n",
            "[1 2 3 4 5]\n",
            "<class 'numpy.ndarray'>\n",
            "Shape of array-a: (5,)\n",
            "Dimension of array-a: 1\n"
          ],
          "name": "stdout"
        }
      ]
    },
    {
      "cell_type": "code",
      "metadata": {
        "colab": {
          "base_uri": "https://localhost:8080/"
        },
        "id": "4tMj1vkdD5V5",
        "outputId": "1e0721d5-2fe8-4217-81d0-164184d22d0b"
      },
      "source": [
        "b = np.array([ [1,5,9],[2,5,8] ])\r\n",
        "print(b)\r\n",
        "print(b.shape)\r\n",
        "print(b.ndim)\r\n",
        "\r\n",
        "row,col=b.shape\r\n",
        "dimension=b.shape\r\n",
        "\r\n",
        "print(row,col,dimension)"
      ],
      "execution_count": 13,
      "outputs": [
        {
          "output_type": "stream",
          "text": [
            "[[1 5 9]\n",
            " [2 5 8]]\n",
            "(2, 3)\n",
            "2\n",
            "2 3 (2, 3)\n"
          ],
          "name": "stdout"
        }
      ]
    },
    {
      "cell_type": "code",
      "metadata": {
        "colab": {
          "base_uri": "https://localhost:8080/"
        },
        "id": "hanTxdZCGqkW",
        "outputId": "d29fe9e4-f289-42b3-d295-a5fe85e30a76"
      },
      "source": [
        "# Numpy slicing\r\n",
        "\r\n",
        "b = np.array([ [1,4,9],[2,5,8] ])\r\n",
        "print(b)\r\n",
        "print(b[0][0])\r\n",
        "\r\n",
        "print(b[1][2])\r\n",
        "print(b[1,2])\r\n",
        "\r\n",
        "print(b[0,1:3])\r\n",
        "print(b[1,0:3:2])"
      ],
      "execution_count": 26,
      "outputs": [
        {
          "output_type": "stream",
          "text": [
            "[[1 4 9]\n",
            " [2 5 8]]\n",
            "1\n",
            "8\n",
            "8\n",
            "[4 9]\n",
            "[2 8]\n"
          ],
          "name": "stdout"
        }
      ]
    },
    {
      "cell_type": "code",
      "metadata": {
        "colab": {
          "base_uri": "https://localhost:8080/"
        },
        "id": "88NYOr-UIhQ3",
        "outputId": "a3412ebd-cbf1-4939-e51c-ac0713eb7d88"
      },
      "source": [
        "allRounder = np.array(['Sakib','Max','Nabi','Ashwin'])\r\n",
        "print(allRounder[-1])\r\n",
        "print(allRounder[-2])\r\n",
        "print(allRounder.dtype)"
      ],
      "execution_count": 33,
      "outputs": [
        {
          "output_type": "stream",
          "text": [
            "Ashwin\n",
            "Nabi\n",
            "<U6\n"
          ],
          "name": "stdout"
        }
      ]
    },
    {
      "cell_type": "code",
      "metadata": {
        "colab": {
          "base_uri": "https://localhost:8080/"
        },
        "id": "x3XXFc1KJU7E",
        "outputId": "032c4537-98ec-47e9-d54a-afd5f2bcf945"
      },
      "source": [
        "allRounder = np.array(['Sakib','Max','Nabi','Ashwin'])\r\n",
        "b = np.array([ [1,4,9],[2,5,8] ])\r\n",
        "\r\n",
        "for player in allRounder:\r\n",
        "    print(player)\r\n",
        "\r\n",
        "for x in b:\r\n",
        "    for y in x:\r\n",
        "        print(y,end=' ')\r\n",
        "\r\n",
        "print('\\n')\r\n",
        "\r\n",
        "for i in range(0, b.shape[0]):\r\n",
        "    for j in range(0,b.shape[1]):\r\n",
        "        print(b[i,j],end=' ')"
      ],
      "execution_count": 38,
      "outputs": [
        {
          "output_type": "stream",
          "text": [
            "Sakib\n",
            "Max\n",
            "Nabi\n",
            "Ashwin\n",
            "1 4 9 2 5 8 \n",
            "\n",
            "1 4 9 2 5 8 "
          ],
          "name": "stdout"
        }
      ]
    },
    {
      "cell_type": "code",
      "metadata": {
        "colab": {
          "base_uri": "https://localhost:8080/"
        },
        "id": "XxAzmjwCKr9Z",
        "outputId": "b9e3e0dd-81d8-442e-a657-7d97647bef23"
      },
      "source": [
        "# Zeros and ones on numpy\r\n",
        "\r\n",
        "z = np.zeros((5,5))\r\n",
        "print(z)\r\n",
        "o=np.ones((4,3))\r\n",
        "print(o)\r\n",
        "print(o.dtype)"
      ],
      "execution_count": 41,
      "outputs": [
        {
          "output_type": "stream",
          "text": [
            "[[0. 0. 0. 0. 0.]\n",
            " [0. 0. 0. 0. 0.]\n",
            " [0. 0. 0. 0. 0.]\n",
            " [0. 0. 0. 0. 0.]\n",
            " [0. 0. 0. 0. 0.]]\n",
            "[[1. 1. 1.]\n",
            " [1. 1. 1.]\n",
            " [1. 1. 1.]\n",
            " [1. 1. 1.]]\n",
            "float64\n"
          ],
          "name": "stdout"
        }
      ]
    },
    {
      "cell_type": "code",
      "metadata": {
        "colab": {
          "base_uri": "https://localhost:8080/"
        },
        "id": "5ZbnjkbiL5hU",
        "outputId": "496c681f-6aa2-4df7-a1ab-4d0cc64e42ce"
      },
      "source": [
        "# Matrix Manipulation\r\n",
        "\r\n",
        "mat1 = np.array([ [1,2,3],[4,5,6],[7,8,9] ])\r\n",
        "mat2 = np.array([ [5,4],[3,9],[2,8] ])\r\n",
        "\r\n",
        "if mat1.shape[1]==mat2.shape[0]:\r\n",
        "    mat3 = np.dot(mat1,mat2)  # Dot product means matrix multiplication\r\n",
        "\r\n",
        "print(mat3)\r\n",
        "print(mat3.shape)"
      ],
      "execution_count": 42,
      "outputs": [
        {
          "output_type": "stream",
          "text": [
            "[[ 17  46]\n",
            " [ 47 109]\n",
            " [ 77 172]]\n",
            "(3, 2)\n"
          ],
          "name": "stdout"
        }
      ]
    },
    {
      "cell_type": "code",
      "metadata": {
        "colab": {
          "base_uri": "https://localhost:8080/"
        },
        "id": "v1wpqMrUNbZd",
        "outputId": "6e4c671d-a856-46b0-fa94-43cd1ce3d276"
      },
      "source": [
        "print(mat1/255.0)"
      ],
      "execution_count": 45,
      "outputs": [
        {
          "output_type": "stream",
          "text": [
            "[[0.00392157 0.00784314 0.01176471]\n",
            " [0.01568627 0.01960784 0.02352941]\n",
            " [0.02745098 0.03137255 0.03529412]]\n"
          ],
          "name": "stdout"
        }
      ]
    },
    {
      "cell_type": "markdown",
      "metadata": {
        "id": "g-LFLAbcOdkG"
      },
      "source": [
        "Some Basic Drawings in Python"
      ]
    },
    {
      "cell_type": "code",
      "metadata": {
        "colab": {
          "base_uri": "https://localhost:8080/",
          "height": 312
        },
        "id": "61EPH5eaOhkF",
        "outputId": "efad4b59-f4c5-49fa-a052-593812ed49be"
      },
      "source": [
        "# Matplot library drawing\r\n",
        "\r\n",
        "a = np.arange(1,11,.1)\r\n",
        "print(a.shape)\r\n",
        "\r\n",
        "b = np.array(np.power(a,2))\r\n",
        "\r\n",
        "import matplotlib.pyplot as plt\r\n",
        "\r\n",
        "plt.plot(a,b,color='red')\r\n",
        "plt.xlabel('A Values')\r\n",
        "plt.ylabel('Polynomial values')\r\n",
        "plt.title('Graph.')\r\n",
        "plt.draw()"
      ],
      "execution_count": 53,
      "outputs": [
        {
          "output_type": "stream",
          "text": [
            "(100,)\n"
          ],
          "name": "stdout"
        },
        {
          "output_type": "display_data",
          "data": {
            "image/png": "[encoded data removed]",
            "text/plain": [
              "<Figure size 432x288 with 1 Axes>"
            ]
          },
          "metadata": {
            "tags": [],
            "needs_background": "light"
          }
        }
      ]
    },
    {
      "cell_type": "code",
      "metadata": {
        "colab": {
          "base_uri": "https://localhost:8080/",
          "height": 312
        },
        "id": "mLAX5otoQky0",
        "outputId": "4e797e83-d2f5-431d-d6bb-3b793b95e53f"
      },
      "source": [
        "# Scatter plot\r\n",
        "\r\n",
        "a = np.arange(1,11,1)\r\n",
        "print(a.shape)\r\n",
        "\r\n",
        "b = np.array(np.power(a,2))\r\n",
        "\r\n",
        "import matplotlib.pyplot as plt\r\n",
        "\r\n",
        "plt.scatter(a,b,color='red')\r\n",
        "plt.xlabel('A Values')\r\n",
        "plt.ylabel('Polynomial values')\r\n",
        "plt.title('Graph.')\r\n",
        "plt.draw()\r\n"
      ],
      "execution_count": 60,
      "outputs": [
        {
          "output_type": "stream",
          "text": [
            "(10,)\n"
          ],
          "name": "stdout"
        },
        {
          "output_type": "display_data",
          "data": {
            "image/png": "[encoded data removed]",
            "text/plain": [
              "<Figure size 432x288 with 1 Axes>"
            ]
          },
          "metadata": {
            "tags": [],
            "needs_background": "light"
          }
        }
      ]
    },
    {
      "cell_type": "code",
      "metadata": {
        "colab": {
          "base_uri": "https://localhost:8080/",
          "height": 265
        },
        "id": "fDnKjHR3Q5zz",
        "outputId": "97fd025d-a923-4e57-f93a-6c6a6accb194"
      },
      "source": [
        "allRounder = np.array(['Sakib','Max','Nabi','Ashwin'])\r\n",
        "point = np.array([650,600,525,430])\r\n",
        "\r\n",
        "plt.bar(allRounder,point,color=(0,0,1))\r\n",
        "plt.draw()"
      ],
      "execution_count": 64,
      "outputs": [
        {
          "output_type": "display_data",
          "data": {
            "image/png": "[encoded data removed]",
            "text/plain": [
              "<Figure size 432x288 with 1 Axes>"
            ]
          },
          "metadata": {
            "tags": [],
            "needs_background": "light"
          }
        }
      ]
    }
  ]
}