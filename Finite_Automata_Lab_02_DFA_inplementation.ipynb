{
  "nbformat": 4,
  "nbformat_minor": 0,
  "metadata": {
    "colab": {
      "name": "Finite Automata Lab-02: DFA inplementation.ipynb",
      "provenance": [],
      "authorship_tag": "ABX9TyOtBhxqSSKlnYqALxUM6Amb",
      "include_colab_link": true
    },
    "kernelspec": {
      "name": "python3",
      "display_name": "Python 3"
    }
  },
  "cells": [
    {
      "cell_type": "markdown",
      "metadata": {
        "id": "view-in-github",
        "colab_type": "text"
      },
      "source": [
        "<a href=\"https://colab.research.google.com/github/Tanmoy-Sarkar-Pranto/Finite-Automata/blob/main/Finite_Automata_Lab_02_DFA_inplementation.ipynb\" target=\"_parent\"><img src=\"https://colab.research.google.com/assets/colab-badge.svg\" alt=\"Open In Colab\"/></a>"
      ]
    },
    {
      "cell_type": "code",
      "metadata": {
        "colab": {
          "base_uri": "https://localhost:8080/"
        },
        "id": "93tS0bqVbtZ9",
        "outputId": "81efc7f1-eb4f-45fe-891b-98a266ab0a08"
      },
      "source": [
        "! pip install pyformlang"
      ],
      "execution_count": 1,
      "outputs": [
        {
          "output_type": "stream",
          "text": [
            "Collecting pyformlang\n",
            "\u001b[?25l  Downloading https://files.pythonhosted.org/packages/b2/15/3a49d67b9efbd26aa0b06a8a9c7fed859f3f36b19a59aa075615b23c3703/pyformlang-0.1.23-py3-none-any.whl (109kB)\n",
            "\r\u001b[K     |███                             | 10kB 19.4MB/s eta 0:00:01\r\u001b[K     |██████                          | 20kB 18.4MB/s eta 0:00:01\r\u001b[K     |█████████                       | 30kB 10.4MB/s eta 0:00:01\r\u001b[K     |████████████                    | 40kB 8.3MB/s eta 0:00:01\r\u001b[K     |███████████████                 | 51kB 6.9MB/s eta 0:00:01\r\u001b[K     |██████████████████              | 61kB 7.2MB/s eta 0:00:01\r\u001b[K     |█████████████████████           | 71kB 7.7MB/s eta 0:00:01\r\u001b[K     |████████████████████████        | 81kB 8.1MB/s eta 0:00:01\r\u001b[K     |███████████████████████████     | 92kB 7.7MB/s eta 0:00:01\r\u001b[K     |██████████████████████████████  | 102kB 6.7MB/s eta 0:00:01\r\u001b[K     |████████████████████████████████| 112kB 6.7MB/s \n",
            "\u001b[?25hRequirement already satisfied: networkx in /usr/local/lib/python3.6/dist-packages (from pyformlang) (2.5)\n",
            "Requirement already satisfied: numpy in /usr/local/lib/python3.6/dist-packages (from pyformlang) (1.19.5)\n",
            "Requirement already satisfied: pydot in /usr/local/lib/python3.6/dist-packages (from pyformlang) (1.3.0)\n",
            "Requirement already satisfied: decorator>=4.3.0 in /usr/local/lib/python3.6/dist-packages (from networkx->pyformlang) (4.4.2)\n",
            "Requirement already satisfied: pyparsing>=2.1.4 in /usr/local/lib/python3.6/dist-packages (from pydot->pyformlang) (2.4.7)\n",
            "Installing collected packages: pyformlang\n",
            "Successfully installed pyformlang-0.1.23\n"
          ],
          "name": "stdout"
        }
      ]
    },
    {
      "cell_type": "code",
      "metadata": {
        "colab": {
          "base_uri": "https://localhost:8080/"
        },
        "id": "sUJw4o8ac9RW",
        "outputId": "25f1ae31-44ea-44e4-82f9-264dad388897"
      },
      "source": [
        "# DFA implementation\r\n",
        "# import necessary libraries\r\n",
        "\r\n",
        "from pyformlang.finite_automaton import DeterministicFiniteAutomaton\r\n",
        "\r\n",
        "from pyformlang.finite_automaton import State\r\n",
        "from pyformlang.finite_automaton import Symbol\r\n",
        "\r\n",
        "# Declare DFA\r\n",
        "\r\n",
        "dfa = DeterministicFiniteAutomaton()   # initializing\r\n",
        "\r\n",
        "\r\n",
        "# Declaration if states\r\n",
        "\r\n",
        "state0 = State(0)\r\n",
        "state1 = State(1)\r\n",
        "state2 = State(2)\r\n",
        "state3 = State(3)\r\n",
        "\r\n",
        "# Declaration of symbols\r\n",
        "\r\n",
        "sym_a = Symbol('a')\r\n",
        "sym_b = Symbol('b')\r\n",
        "\r\n",
        "\r\n",
        "# Adding Starting state\r\n",
        "dfa.add_start_state(state0)\r\n",
        "\r\n",
        "# Adding accepting state\r\n",
        "dfa.add_final_state(state3)\r\n",
        "\r\n",
        "# Adding the transitions.\r\n",
        "dfa.add_transition(state0, sym_a, state1)\r\n",
        "dfa.add_transition(state0, sym_b, state0)\r\n",
        "dfa.add_transition(state1, sym_a, state2)\r\n",
        "dfa.add_transition(state1, sym_b, state0)\r\n",
        "dfa.add_transition(state2, sym_a, state0)\r\n",
        "dfa.add_transition(state2, sym_b, state3)\r\n",
        "dfa.add_transition(state3, sym_a, state3)\r\n",
        "dfa.add_transition(state3, sym_b, state0)\r\n",
        "\r\n",
        "# Check if a string /word is accepted/rejected\r\n",
        "\r\n",
        "dfa_result1 = dfa.accepts( [sym_a, sym_a, sym_b] )\r\n",
        "dfa_result2 = dfa.accepts( ['a','b','a','a','b'] )\r\n",
        "dfa_result3 = dfa.accepts( ['a','b','c','a','b'] )\r\n",
        "dfa_result4 = dfa.accepts( ['a','b','a','a','b','b'] )\r\n",
        "\r\n",
        "print(dfa_result1, dfa_result2, dfa_result3, dfa_result4)\r\n",
        "\r\n",
        "import numpy as np\r\n",
        "data = np.array( [ 'aab','abab','abaab','aaaab','abaab'] )\r\n",
        "\r\n",
        "for i in data:\r\n",
        "    lst=[]\r\n",
        "    for j in i:\r\n",
        "        lst.append(j)\r\n",
        "    \r\n",
        "    if dfa.accepts(lst):\r\n",
        "        print(i,'is accepted')\r\n",
        "    else:\r\n",
        "        print(i,'is rejected')"
      ],
      "execution_count": 14,
      "outputs": [
        {
          "output_type": "stream",
          "text": [
            "True True False False\n",
            "aab is accepted\n",
            "abab is rejected\n",
            "abaab is accepted\n",
            "aaaab is rejected\n",
            "abaab is accepted\n"
          ],
          "name": "stdout"
        }
      ]
    }
  ]
}